{
 "cells": [
  {
   "cell_type": "markdown",
   "metadata": {},
   "source": [
    "# Exercise 6\n",
    "\n",
    "## SVM & Regularization\n",
    "\n",
    "\n",
    "For this homework we consider a set of observations on a number of red and white wine varieties involving their chemical properties and ranking by tasters. Wine industry shows a recent growth spurt as social drinking is on the rise. The price of wine depends on a rather abstract concept of wine appreciation by wine tasters, opinion among whom may have a high degree of variability. Pricing of wine depends on such a volatile factor to some extent. Another key factor in wine certification and quality assessment is physicochemical tests which are laboratory-based and takes into account factors like acidity, pH level, presence of sugar and other chemical properties. For the wine market, it would be of interest if human quality of tasting can be related to the chemical properties of wine so that certification and quality assessment and assurance process is more controlled.\n",
    "\n",
    "Two datasets are available of which one dataset is on red wine and have 1599 different varieties and the other is on white wine and have 4898 varieties. All wines are produced in a particular area of Portugal. Data are collected on 12 different properties of the wines one of which is Quality, based on sensory data, and the rest are on chemical properties of the wines including density, acidity, alcohol content etc. All chemical properties of wines are continuous variables. Quality is an ordinal variable with possible ranking from 1 (worst) to 10 (best). Each variety of wine is tasted by three independent tasters and the final rank assigned is the median rank given by the tasters.\n",
    "\n",
    "A predictive model developed on this data is expected to provide guidance to vineyards regarding quality and price expected on their produce without heavy reliance on volatility of wine tasters."
   ]
  },
  {
   "cell_type": "code",
   "execution_count": 31,
   "metadata": {},
   "outputs": [],
   "source": [
    "import pandas as pd\n",
    "import numpy as np\n",
    "from sklearn.model_selection import train_test_split"
   ]
  },
  {
   "cell_type": "code",
   "execution_count": 10,
   "metadata": {},
   "outputs": [],
   "source": [
    "data_r = pd.read_csv('https://github.com/albahnsen/PracticalMachineLearningClass/raw/master/datasets/Wine_data_red.csv')\n",
    "data_w = pd.read_csv('https://github.com/albahnsen/PracticalMachineLearningClass/raw/master/datasets/Wine_data_white.csv')"
   ]
  },
  {
   "cell_type": "code",
   "execution_count": 11,
   "metadata": {},
   "outputs": [
    {
     "data": {
      "text/html": [
       "<div>\n",
       "<style scoped>\n",
       "    .dataframe tbody tr th:only-of-type {\n",
       "        vertical-align: middle;\n",
       "    }\n",
       "\n",
       "    .dataframe tbody tr th {\n",
       "        vertical-align: top;\n",
       "    }\n",
       "\n",
       "    .dataframe thead th {\n",
       "        text-align: right;\n",
       "    }\n",
       "</style>\n",
       "<table border=\"1\" class=\"dataframe\">\n",
       "  <thead>\n",
       "    <tr style=\"text-align: right;\">\n",
       "      <th></th>\n",
       "      <th>fixed acidity</th>\n",
       "      <th>volatile acidity</th>\n",
       "      <th>citric acid</th>\n",
       "      <th>residual sugar</th>\n",
       "      <th>chlorides</th>\n",
       "      <th>free sulfur dioxide</th>\n",
       "      <th>total sulfur dioxide</th>\n",
       "      <th>density</th>\n",
       "      <th>pH</th>\n",
       "      <th>sulphates</th>\n",
       "      <th>alcohol</th>\n",
       "      <th>quality</th>\n",
       "      <th>type</th>\n",
       "    </tr>\n",
       "  </thead>\n",
       "  <tbody>\n",
       "    <tr>\n",
       "      <th>698</th>\n",
       "      <td>7.5</td>\n",
       "      <td>0.31</td>\n",
       "      <td>0.51</td>\n",
       "      <td>14.8</td>\n",
       "      <td>0.039</td>\n",
       "      <td>62.0</td>\n",
       "      <td>204.0</td>\n",
       "      <td>0.99820</td>\n",
       "      <td>3.06</td>\n",
       "      <td>0.60</td>\n",
       "      <td>9.5</td>\n",
       "      <td>5</td>\n",
       "      <td>white</td>\n",
       "    </tr>\n",
       "    <tr>\n",
       "      <th>6284</th>\n",
       "      <td>7.4</td>\n",
       "      <td>0.64</td>\n",
       "      <td>0.07</td>\n",
       "      <td>1.8</td>\n",
       "      <td>0.100</td>\n",
       "      <td>8.0</td>\n",
       "      <td>23.0</td>\n",
       "      <td>0.99610</td>\n",
       "      <td>3.30</td>\n",
       "      <td>0.58</td>\n",
       "      <td>9.6</td>\n",
       "      <td>5</td>\n",
       "      <td>red</td>\n",
       "    </tr>\n",
       "    <tr>\n",
       "      <th>2979</th>\n",
       "      <td>6.7</td>\n",
       "      <td>0.36</td>\n",
       "      <td>0.26</td>\n",
       "      <td>7.9</td>\n",
       "      <td>0.034</td>\n",
       "      <td>39.0</td>\n",
       "      <td>123.0</td>\n",
       "      <td>0.99119</td>\n",
       "      <td>2.99</td>\n",
       "      <td>0.30</td>\n",
       "      <td>12.2</td>\n",
       "      <td>7</td>\n",
       "      <td>white</td>\n",
       "    </tr>\n",
       "    <tr>\n",
       "      <th>960</th>\n",
       "      <td>7.3</td>\n",
       "      <td>0.24</td>\n",
       "      <td>0.34</td>\n",
       "      <td>15.4</td>\n",
       "      <td>0.050</td>\n",
       "      <td>38.0</td>\n",
       "      <td>174.0</td>\n",
       "      <td>0.99830</td>\n",
       "      <td>3.03</td>\n",
       "      <td>0.42</td>\n",
       "      <td>9.0</td>\n",
       "      <td>6</td>\n",
       "      <td>white</td>\n",
       "    </tr>\n",
       "    <tr>\n",
       "      <th>4736</th>\n",
       "      <td>6.0</td>\n",
       "      <td>0.16</td>\n",
       "      <td>0.36</td>\n",
       "      <td>1.6</td>\n",
       "      <td>0.042</td>\n",
       "      <td>13.0</td>\n",
       "      <td>61.0</td>\n",
       "      <td>0.99143</td>\n",
       "      <td>3.22</td>\n",
       "      <td>0.54</td>\n",
       "      <td>10.8</td>\n",
       "      <td>6</td>\n",
       "      <td>white</td>\n",
       "    </tr>\n",
       "  </tbody>\n",
       "</table>\n",
       "</div>"
      ],
      "text/plain": [
       "      fixed acidity  volatile acidity  citric acid  residual sugar  chlorides  \\\n",
       "698             7.5              0.31         0.51            14.8      0.039   \n",
       "6284            7.4              0.64         0.07             1.8      0.100   \n",
       "2979            6.7              0.36         0.26             7.9      0.034   \n",
       "960             7.3              0.24         0.34            15.4      0.050   \n",
       "4736            6.0              0.16         0.36             1.6      0.042   \n",
       "\n",
       "      free sulfur dioxide  total sulfur dioxide  density    pH  sulphates  \\\n",
       "698                  62.0                 204.0  0.99820  3.06       0.60   \n",
       "6284                  8.0                  23.0  0.99610  3.30       0.58   \n",
       "2979                 39.0                 123.0  0.99119  2.99       0.30   \n",
       "960                  38.0                 174.0  0.99830  3.03       0.42   \n",
       "4736                 13.0                  61.0  0.99143  3.22       0.54   \n",
       "\n",
       "      alcohol  quality   type  \n",
       "698       9.5        5  white  \n",
       "6284      9.6        5    red  \n",
       "2979     12.2        7  white  \n",
       "960       9.0        6  white  \n",
       "4736     10.8        6  white  "
      ]
     },
     "execution_count": 11,
     "metadata": {},
     "output_type": "execute_result"
    }
   ],
   "source": [
    "data = data_w.assign(type = 'white')\n",
    "\n",
    "data = data.append(data_r.assign(type = 'red'), ignore_index=True)\n",
    "data.sample(5)"
   ]
  },
  {
   "cell_type": "markdown",
   "metadata": {},
   "source": [
    "# Exercise 6.1\n",
    "\n",
    "Show the frecuency table of the quality by type of wine"
   ]
  },
  {
   "cell_type": "code",
   "execution_count": 12,
   "metadata": {},
   "outputs": [
    {
     "data": {
      "text/html": [
       "<div>\n",
       "<style scoped>\n",
       "    .dataframe tbody tr th:only-of-type {\n",
       "        vertical-align: middle;\n",
       "    }\n",
       "\n",
       "    .dataframe tbody tr th {\n",
       "        vertical-align: top;\n",
       "    }\n",
       "\n",
       "    .dataframe thead tr th {\n",
       "        text-align: left;\n",
       "    }\n",
       "\n",
       "    .dataframe thead tr:last-of-type th {\n",
       "        text-align: right;\n",
       "    }\n",
       "</style>\n",
       "<table border=\"1\" class=\"dataframe\">\n",
       "  <thead>\n",
       "    <tr>\n",
       "      <th></th>\n",
       "      <th colspan=\"2\" halign=\"left\">alcohol</th>\n",
       "    </tr>\n",
       "    <tr>\n",
       "      <th>type</th>\n",
       "      <th>red</th>\n",
       "      <th>white</th>\n",
       "    </tr>\n",
       "    <tr>\n",
       "      <th>quality</th>\n",
       "      <th></th>\n",
       "      <th></th>\n",
       "    </tr>\n",
       "  </thead>\n",
       "  <tbody>\n",
       "    <tr>\n",
       "      <th>3</th>\n",
       "      <td>10.0</td>\n",
       "      <td>20.0</td>\n",
       "    </tr>\n",
       "    <tr>\n",
       "      <th>4</th>\n",
       "      <td>53.0</td>\n",
       "      <td>163.0</td>\n",
       "    </tr>\n",
       "    <tr>\n",
       "      <th>5</th>\n",
       "      <td>681.0</td>\n",
       "      <td>1457.0</td>\n",
       "    </tr>\n",
       "    <tr>\n",
       "      <th>6</th>\n",
       "      <td>638.0</td>\n",
       "      <td>2198.0</td>\n",
       "    </tr>\n",
       "    <tr>\n",
       "      <th>7</th>\n",
       "      <td>199.0</td>\n",
       "      <td>880.0</td>\n",
       "    </tr>\n",
       "    <tr>\n",
       "      <th>8</th>\n",
       "      <td>18.0</td>\n",
       "      <td>175.0</td>\n",
       "    </tr>\n",
       "    <tr>\n",
       "      <th>9</th>\n",
       "      <td>NaN</td>\n",
       "      <td>5.0</td>\n",
       "    </tr>\n",
       "  </tbody>\n",
       "</table>\n",
       "</div>"
      ],
      "text/plain": [
       "        alcohol        \n",
       "type        red   white\n",
       "quality                \n",
       "3          10.0    20.0\n",
       "4          53.0   163.0\n",
       "5         681.0  1457.0\n",
       "6         638.0  2198.0\n",
       "7         199.0   880.0\n",
       "8          18.0   175.0\n",
       "9           NaN     5.0"
      ]
     },
     "execution_count": 12,
     "metadata": {},
     "output_type": "execute_result"
    }
   ],
   "source": [
    "import numpy as np\n",
    "from sklearn.model_selection import train_test_split\n",
    "pd.pivot_table(data[['quality','type','alcohol']],index=['quality'],columns=['type'], aggfunc='count')"
   ]
  },
  {
   "cell_type": "markdown",
   "metadata": {},
   "source": [
    "# SVM"
   ]
  },
  {
   "cell_type": "markdown",
   "metadata": {},
   "source": [
    "# Exercise 6.2\n",
    "Lo que se quiere clasificar es si el vinoes bueno o malo. Variable Calidad. Convertirla en binario.\n",
    "Una vez se tenga esavariable se hacen dos modelos, uno para pronosticar con vinos blancos y otro para pronosticar con los rojos.\n",
    "Se haran dos modelos de clasificación. El target de cada modelo es si la calidad del vino es buena o mala.\n",
    "* Standarized the features (not the quality). Normalizar los features, las variables\n",
    "* Create a binary target for each type of wine. Se crean dos vectores soporte para separar vinos blancos de vinos rosados\n",
    "* Create two Linear SVM's for the white and red wines, repectively.\n"
   ]
  },
  {
   "cell_type": "code",
   "execution_count": 13,
   "metadata": {},
   "outputs": [
    {
     "data": {
      "text/html": [
       "<div>\n",
       "<style scoped>\n",
       "    .dataframe tbody tr th:only-of-type {\n",
       "        vertical-align: middle;\n",
       "    }\n",
       "\n",
       "    .dataframe tbody tr th {\n",
       "        vertical-align: top;\n",
       "    }\n",
       "\n",
       "    .dataframe thead th {\n",
       "        text-align: right;\n",
       "    }\n",
       "</style>\n",
       "<table border=\"1\" class=\"dataframe\">\n",
       "  <thead>\n",
       "    <tr style=\"text-align: right;\">\n",
       "      <th></th>\n",
       "      <th>fixed acidity</th>\n",
       "      <th>volatile acidity</th>\n",
       "      <th>citric acid</th>\n",
       "      <th>residual sugar</th>\n",
       "      <th>chlorides</th>\n",
       "      <th>free sulfur dioxide</th>\n",
       "      <th>total sulfur dioxide</th>\n",
       "      <th>density</th>\n",
       "      <th>pH</th>\n",
       "      <th>sulphates</th>\n",
       "      <th>alcohol</th>\n",
       "      <th>quality</th>\n",
       "      <th>type</th>\n",
       "      <th>Q1</th>\n",
       "    </tr>\n",
       "  </thead>\n",
       "  <tbody>\n",
       "    <tr>\n",
       "      <th>4192</th>\n",
       "      <td>6.7</td>\n",
       "      <td>0.200</td>\n",
       "      <td>0.24</td>\n",
       "      <td>6.5</td>\n",
       "      <td>0.044</td>\n",
       "      <td>28.0</td>\n",
       "      <td>100.0</td>\n",
       "      <td>0.99348</td>\n",
       "      <td>3.12</td>\n",
       "      <td>0.33</td>\n",
       "      <td>10.20</td>\n",
       "      <td>6</td>\n",
       "      <td>white</td>\n",
       "      <td>1</td>\n",
       "    </tr>\n",
       "    <tr>\n",
       "      <th>1538</th>\n",
       "      <td>6.0</td>\n",
       "      <td>0.170</td>\n",
       "      <td>0.49</td>\n",
       "      <td>1.0</td>\n",
       "      <td>0.034</td>\n",
       "      <td>26.0</td>\n",
       "      <td>106.0</td>\n",
       "      <td>0.99200</td>\n",
       "      <td>3.21</td>\n",
       "      <td>0.42</td>\n",
       "      <td>9.80</td>\n",
       "      <td>6</td>\n",
       "      <td>white</td>\n",
       "      <td>1</td>\n",
       "    </tr>\n",
       "    <tr>\n",
       "      <th>5895</th>\n",
       "      <td>5.6</td>\n",
       "      <td>0.660</td>\n",
       "      <td>0.00</td>\n",
       "      <td>2.2</td>\n",
       "      <td>0.087</td>\n",
       "      <td>3.0</td>\n",
       "      <td>11.0</td>\n",
       "      <td>0.99378</td>\n",
       "      <td>3.71</td>\n",
       "      <td>0.63</td>\n",
       "      <td>12.80</td>\n",
       "      <td>7</td>\n",
       "      <td>red</td>\n",
       "      <td>1</td>\n",
       "    </tr>\n",
       "    <tr>\n",
       "      <th>3601</th>\n",
       "      <td>6.6</td>\n",
       "      <td>0.295</td>\n",
       "      <td>0.24</td>\n",
       "      <td>1.6</td>\n",
       "      <td>0.039</td>\n",
       "      <td>29.0</td>\n",
       "      <td>140.0</td>\n",
       "      <td>0.99304</td>\n",
       "      <td>3.35</td>\n",
       "      <td>0.61</td>\n",
       "      <td>10.40</td>\n",
       "      <td>7</td>\n",
       "      <td>white</td>\n",
       "      <td>1</td>\n",
       "    </tr>\n",
       "    <tr>\n",
       "      <th>4789</th>\n",
       "      <td>5.5</td>\n",
       "      <td>0.620</td>\n",
       "      <td>0.33</td>\n",
       "      <td>1.7</td>\n",
       "      <td>0.037</td>\n",
       "      <td>24.0</td>\n",
       "      <td>118.0</td>\n",
       "      <td>0.98758</td>\n",
       "      <td>3.15</td>\n",
       "      <td>0.39</td>\n",
       "      <td>13.55</td>\n",
       "      <td>6</td>\n",
       "      <td>white</td>\n",
       "      <td>1</td>\n",
       "    </tr>\n",
       "  </tbody>\n",
       "</table>\n",
       "</div>"
      ],
      "text/plain": [
       "      fixed acidity  volatile acidity  citric acid  residual sugar  chlorides  \\\n",
       "4192            6.7             0.200         0.24             6.5      0.044   \n",
       "1538            6.0             0.170         0.49             1.0      0.034   \n",
       "5895            5.6             0.660         0.00             2.2      0.087   \n",
       "3601            6.6             0.295         0.24             1.6      0.039   \n",
       "4789            5.5             0.620         0.33             1.7      0.037   \n",
       "\n",
       "      free sulfur dioxide  total sulfur dioxide  density    pH  sulphates  \\\n",
       "4192                 28.0                 100.0  0.99348  3.12       0.33   \n",
       "1538                 26.0                 106.0  0.99200  3.21       0.42   \n",
       "5895                  3.0                  11.0  0.99378  3.71       0.63   \n",
       "3601                 29.0                 140.0  0.99304  3.35       0.61   \n",
       "4789                 24.0                 118.0  0.98758  3.15       0.39   \n",
       "\n",
       "      alcohol  quality   type  Q1  \n",
       "4192    10.20        6  white   1  \n",
       "1538     9.80        6  white   1  \n",
       "5895    12.80        7    red   1  \n",
       "3601    10.40        7  white   1  \n",
       "4789    13.55        6  white   1  "
      ]
     },
     "execution_count": 13,
     "metadata": {},
     "output_type": "execute_result"
    }
   ],
   "source": [
    "from sklearn import preprocessing\n",
    "import matplotlib.pyplot as plt\n",
    "\n",
    "data['Q1']=data['quality']>5\n",
    "data['Q1']=data['Q1'].astype(int)\n",
    "data.sample(5)"
   ]
  },
  {
   "cell_type": "code",
   "execution_count": 16,
   "metadata": {},
   "outputs": [
    {
     "name": "stdout",
     "output_type": "stream",
     "text": [
      "Accuracy vino blanco regresion lineal 0.7539812168231932\n",
      "Accuracy vino rojo regresion lineal 0.6898061288305191\n"
     ]
    }
   ],
   "source": [
    "from sklearn.svm import SVC # \"Support Vector Classifier\"\n",
    "from sklearn import preprocessing\n",
    "scaler = preprocessing.StandardScaler()\n",
    "vino_blanco=data.loc[data['type']=='white']\n",
    "vino_rojo=data.loc[data['type']=='red']\n",
    "ya = vino_blanco['Q1'].values\n",
    "yb = vino_rojo['Q1'].values\n",
    "\n",
    "xa1 = vino_blanco['fixed acidity'].values\n",
    "xa2 = vino_blanco['volatile acidity'].values\n",
    "xa3 = vino_blanco['citric acid'].values\n",
    "xa4 = vino_blanco['residual sugar'].values\n",
    "xa5 = vino_blanco['chlorides'].values\n",
    "xa6 = vino_blanco['free sulfur dioxide'].values\n",
    "xa7 = vino_blanco['total sulfur dioxide'].values\n",
    "xa8 = vino_blanco['density'].values\n",
    "xa9 = vino_blanco['pH'].values\n",
    "xa10 = vino_blanco['sulphates'].values\n",
    "xa11 = vino_blanco['alcohol'].values\n",
    "\n",
    "xb1 = vino_rojo['fixed acidity'].values\n",
    "xb2 = vino_rojo['volatile acidity'].values\n",
    "xb3 = vino_rojo['citric acid'].values\n",
    "xb4 = vino_rojo['residual sugar'].values\n",
    "xb5 = vino_rojo['chlorides'].values\n",
    "xb6 = vino_rojo['free sulfur dioxide'].values\n",
    "xb7 = vino_rojo['total sulfur dioxide'].values\n",
    "xb8 = vino_rojo['density'].values\n",
    "xb9 = vino_rojo['pH'].values\n",
    "xb10 = vino_rojo['sulphates'].values\n",
    "xb11 = vino_rojo['alcohol'].values\n",
    "\n",
    "Xa1_std = preprocessing.scale(xa1)\n",
    "Xa2_std = preprocessing.scale(xa2)\n",
    "Xa3_std = preprocessing.scale(xa3)\n",
    "Xa4_std = preprocessing.scale(xa4)\n",
    "Xa5_std = preprocessing.scale(xa5)\n",
    "Xa6_std = preprocessing.scale(xa6)\n",
    "Xa7_std = preprocessing.scale(xa7)\n",
    "Xa8_std = preprocessing.scale(xa8)\n",
    "Xa9_std = preprocessing.scale(xa9)\n",
    "Xa10_std = preprocessing.scale(xa10)\n",
    "Xa11_std = preprocessing.scale(xa11)\n",
    "\n",
    "Xb1_std = preprocessing.scale(xb1)\n",
    "Xb2_std = preprocessing.scale(xb2)\n",
    "Xb3_std = preprocessing.scale(xb3)\n",
    "Xb4_std = preprocessing.scale(xb4)\n",
    "Xb5_std = preprocessing.scale(xb5)\n",
    "Xb6_std = preprocessing.scale(xb6)\n",
    "Xb7_std = preprocessing.scale(xb7)\n",
    "Xb8_std = preprocessing.scale(xb8)\n",
    "Xb9_std = preprocessing.scale(xb9)\n",
    "Xb10_std = preprocessing.scale(xb10)\n",
    "Xb11_std = preprocessing.scale(xb11)\n",
    "\n",
    "md1 = np.c_[Xa1_std,Xa2_std,Xa3_std,Xa4_std,Xa5_std,Xa6_std,Xa7_std,Xa8_std,Xa9_std,Xa10_std,Xa11_std]\n",
    "md2 = np.c_[Xb1_std,Xb2_std,Xb3_std,Xb4_std,Xb5_std,Xb6_std,Xb7_std,Xb8_std,Xb9_std,Xb10_std,Xb11_std]\n",
    "\n",
    "clf = SVC(kernel='linear',gamma='auto').fit(md1, ya)\n",
    "aw = clf.score(md1, ya)\n",
    "clf = SVC(kernel='linear',gamma='auto').fit(md1, ya)\n",
    "ar = clf.score(md2, yb)\n",
    "\n",
    "print('Accuracy vino blanco regresion lineal',aw)\n",
    "print('Accuracy vino rojo regresion lineal',ar)"
   ]
  },
  {
   "cell_type": "markdown",
   "metadata": {},
   "source": [
    "# Exercise 6.3\n",
    "\n",
    "Test the two SVM's using the different kernels (‘poly’, ‘rbf’, ‘sigmoid’)."
   ]
  },
  {
   "cell_type": "code",
   "execution_count": 17,
   "metadata": {},
   "outputs": [
    {
     "name": "stdout",
     "output_type": "stream",
     "text": [
      "Accuracy para  sigmoid  de vino blanco es: 0.6585034013605442\n",
      "Accuracy para  sigmoid  de vino rojo es: 0.6395833333333333\n",
      "Accuracy para  poly  de vino blanco es: 0.7591836734693878\n",
      "Accuracy para  poly  de vino rojo es: 0.7\n",
      "Accuracy para  rbf  de vino blanco es: 0.773469387755102\n",
      "Accuracy para  rbf  de vino rojo es: 0.73125\n"
     ]
    }
   ],
   "source": [
    "Xa_train, Xa_test, ya_train, ya_test = train_test_split(md1, ya, test_size=0.3)\n",
    "Xb_train, Xb_test, yb_train, yb_test = train_test_split(md2, yb, test_size=0.3)\n",
    "\n",
    "for kernel in ('sigmoid', 'poly', 'rbf'):\n",
    "    clf = SVC(kernel=kernel,gamma='auto').fit(Xa_train, ya_train)\n",
    "    aw = clf.score(Xa_test, ya_test)\n",
    "    clf = SVC(kernel=kernel,gamma='auto').fit(Xb_train, yb_train)\n",
    "    ar = clf.score(Xb_test, yb_test)\n",
    "    print(\"Accuracy para \",kernel,\" de vino blanco es:\",aw)\n",
    "    print(\"Accuracy para \",kernel,\" de vino rojo es:\",ar)"
   ]
  },
  {
   "cell_type": "markdown",
   "metadata": {},
   "source": [
    "El mejor kernel con accuracy mas alto es para rbf para los dos vinos."
   ]
  },
  {
   "cell_type": "markdown",
   "metadata": {},
   "source": [
    "# Exercise 6.4\n",
    "Using the best SVM find the parameters that gives the best performance\n",
    "\n",
    "'C': [0.1, 1, 10, 100, 1000], 'gamma': [0.01, 0.001, 0.0001]"
   ]
  },
  {
   "cell_type": "code",
   "execution_count": 18,
   "metadata": {},
   "outputs": [
    {
     "name": "stdout",
     "output_type": "stream",
     "text": [
      "Accuracy para  rbf  con gamma de  0.01  y un C de  0.1  el accuracy de vino blanco es: 0.710204081632653\n",
      "Accuracy para  rbf  con gamma de  0.01  y un C de  0.1  el accuracy de vino rojo es: 0.7104166666666667\n",
      "Accuracy para  rbf  con gamma de  0.01  y un C de  1  el accuracy de vino blanco es: 0.7564625850340136\n",
      "Accuracy para  rbf  con gamma de  0.01  y un C de  1  el accuracy de vino rojo es: 0.71875\n",
      "Accuracy para  rbf  con gamma de  0.01  y un C de  10  el accuracy de vino blanco es: 0.7564625850340136\n",
      "Accuracy para  rbf  con gamma de  0.01  y un C de  10  el accuracy de vino rojo es: 0.7291666666666666\n",
      "Accuracy para  rbf  con gamma de  0.01  y un C de  100  el accuracy de vino blanco es: 0.7564625850340136\n",
      "Accuracy para  rbf  con gamma de  0.01  y un C de  100  el accuracy de vino rojo es: 0.7270833333333333\n",
      "Accuracy para  rbf  con gamma de  0.01  y un C de  1000  el accuracy de vino blanco es: 0.7721088435374149\n",
      "Accuracy para  rbf  con gamma de  0.01  y un C de  1000  el accuracy de vino rojo es: 0.7104166666666667\n",
      "Accuracy para  rbf  con gamma de  0.001  y un C de  0.1  el accuracy de vino blanco es: 0.6680272108843538\n",
      "Accuracy para  rbf  con gamma de  0.001  y un C de  0.1  el accuracy de vino rojo es: 0.5395833333333333\n",
      "Accuracy para  rbf  con gamma de  0.001  y un C de  1  el accuracy de vino blanco es: 0.7115646258503401\n",
      "Accuracy para  rbf  con gamma de  0.001  y un C de  1  el accuracy de vino rojo es: 0.7083333333333334\n",
      "Accuracy para  rbf  con gamma de  0.001  y un C de  10  el accuracy de vino blanco es: 0.7503401360544217\n",
      "Accuracy para  rbf  con gamma de  0.001  y un C de  10  el accuracy de vino rojo es: 0.7104166666666667\n",
      "Accuracy para  rbf  con gamma de  0.001  y un C de  100  el accuracy de vino blanco es: 0.753061224489796\n",
      "Accuracy para  rbf  con gamma de  0.001  y un C de  100  el accuracy de vino rojo es: 0.7145833333333333\n",
      "Accuracy para  rbf  con gamma de  0.001  y un C de  1000  el accuracy de vino blanco es: 0.7510204081632653\n",
      "Accuracy para  rbf  con gamma de  0.001  y un C de  1000  el accuracy de vino rojo es: 0.725\n",
      "Accuracy para  rbf  con gamma de  1e-05  y un C de  0.1  el accuracy de vino blanco es: 0.6680272108843538\n",
      "Accuracy para  rbf  con gamma de  1e-05  y un C de  0.1  el accuracy de vino rojo es: 0.5395833333333333\n",
      "Accuracy para  rbf  con gamma de  1e-05  y un C de  1  el accuracy de vino blanco es: 0.6680272108843538\n",
      "Accuracy para  rbf  con gamma de  1e-05  y un C de  1  el accuracy de vino rojo es: 0.5395833333333333\n",
      "Accuracy para  rbf  con gamma de  1e-05  y un C de  10  el accuracy de vino blanco es: 0.6680272108843538\n",
      "Accuracy para  rbf  con gamma de  1e-05  y un C de  10  el accuracy de vino rojo es: 0.5395833333333333\n",
      "Accuracy para  rbf  con gamma de  1e-05  y un C de  100  el accuracy de vino blanco es: 0.7122448979591837\n",
      "Accuracy para  rbf  con gamma de  1e-05  y un C de  100  el accuracy de vino rojo es: 0.70625\n",
      "Accuracy para  rbf  con gamma de  1e-05  y un C de  1000  el accuracy de vino blanco es: 0.7503401360544217\n",
      "Accuracy para  rbf  con gamma de  1e-05  y un C de  1000  el accuracy de vino rojo es: 0.7083333333333334\n"
     ]
    }
   ],
   "source": [
    "for gamma in (0.01,0.001,0.00001):\n",
    "    for C in (0.1, 1, 10, 100, 1000):\n",
    "        clf = SVC(kernel='rbf',gamma=gamma,C=C).fit(Xa_train, ya_train)\n",
    "        aw = clf.score(Xa_test, ya_test)\n",
    "        clf = SVC(kernel='rbf',gamma=gamma,C=C).fit(Xb_train, yb_train)\n",
    "        ar = clf.score(Xb_test, yb_test)\n",
    "        print(\"Accuracy para \",kernel,\" con gamma de \",gamma,\" y un C de \",C,\" el accuracy de vino blanco es:\",aw)\n",
    "        print(\"Accuracy para \",kernel,\" con gamma de \",gamma,\" y un C de \",C,\" el accuracy de vino rojo es:\",ar)"
   ]
  },
  {
   "cell_type": "markdown",
   "metadata": {},
   "source": [
    "# Exercise 6.5\n",
    "\n",
    "Compare the results with other methods"
   ]
  },
  {
   "cell_type": "code",
   "execution_count": 19,
   "metadata": {},
   "outputs": [
    {
     "name": "stdout",
     "output_type": "stream",
     "text": [
      "Accuracy vino blanco regresion logistica 0.7448979591836735\n",
      "Accuracy vino rojo regresion logistica 0.7104166666666667\n",
      "Accuracy vino blanco regresion lineal 0.7503401360544217\n",
      "Accuracy vino rojo regresion lineal 0.7083333333333334\n"
     ]
    }
   ],
   "source": [
    "from sklearn.linear_model import LogisticRegression\n",
    "logreg1 = LogisticRegression(solver='liblinear',C=1e9)\n",
    "logreg2 = LogisticRegression(solver='liblinear',C=1e9)\n",
    "logreg1.fit(Xa_train, ya_train)\n",
    "logreg2.fit(Xb_train, yb_train)\n",
    "al1=logreg1.score(Xa_test, ya_test)\n",
    "al2=logreg2.score(Xb_test, yb_test)\n",
    "print('Accuracy vino blanco regresion logistica',al1)\n",
    "print('Accuracy vino rojo regresion logistica',al2)\n",
    "print('Accuracy vino blanco regresion lineal',aw)\n",
    "print('Accuracy vino rojo regresion lineal',ar)"
   ]
  },
  {
   "cell_type": "markdown",
   "metadata": {},
   "source": [
    "En terminos generales con regresión logistica mejoran los resultados respecto a la regresión lineal. Los resultados de la regresión logistica son muy similares a la regresión con kernel rbf con los valores de gamma y C que hacen el accuracy mayor."
   ]
  },
  {
   "cell_type": "markdown",
   "metadata": {},
   "source": [
    "# Regularization"
   ]
  },
  {
   "cell_type": "markdown",
   "metadata": {},
   "source": [
    "# Exercise 6.6\n",
    "\n",
    "\n",
    "* Train a linear regression to predict wine quality (Continous).\n",
    "\n",
    "* Analyze the coefficients\n",
    "\n",
    "* Evaluate the RMSE"
   ]
  },
  {
   "cell_type": "code",
   "execution_count": 20,
   "metadata": {},
   "outputs": [
    {
     "name": "stdout",
     "output_type": "stream",
     "text": [
      "Accuracy vino blanco  0.2826686678192136\n",
      "Accuracy vino rojo  0.3436350272682721\n"
     ]
    }
   ],
   "source": [
    "ya = vino_blanco['quality'].values\n",
    "yb = vino_rojo['quality'].values\n",
    "\n",
    "Xa_train, Xa_test, ya_train, ya_test = train_test_split(md1, ya, test_size=0.3)\n",
    "Xb_train, Xb_test, yb_train, yb_test = train_test_split(md2, yb, test_size=0.3)\n",
    "\n",
    "from sklearn.linear_model import LinearRegression\n",
    "linreg1 = LinearRegression()\n",
    "linreg2 = LinearRegression()\n",
    "linreg1.fit(Xa_train,ya_train)\n",
    "linreg2.fit(Xb_train,yb_train)\n",
    "PredictW = linreg1.predict(Xa_test)\n",
    "PredictR = linreg2.predict(Xb_test)\n",
    "alm1 = linreg1.score(Xa_test,ya_test)\n",
    "alm2 = linreg2.score(Xb_test,yb_test)\n",
    "\n",
    "print(\"Accuracy vino blanco \",alm1)\n",
    "print(\"Accuracy vino rojo \",alm2)"
   ]
  },
  {
   "cell_type": "code",
   "execution_count": 21,
   "metadata": {},
   "outputs": [
    {
     "name": "stdout",
     "output_type": "stream",
     "text": [
      "[ 0.04290461 -0.1734983   0.0009931   0.37857245 -0.00363547  0.06594748\n",
      " -0.02579    -0.37609639  0.08866284  0.06303131  0.27381265]\n",
      "[ 0.08711108 -0.18741723 -0.03614418  0.01990296 -0.06028506  0.05717189\n",
      " -0.11326955 -0.03702806 -0.02250662  0.14149377  0.29992496]\n"
     ]
    }
   ],
   "source": [
    "print(linreg1.coef_)\n",
    "print(linreg2.coef_)"
   ]
  },
  {
   "cell_type": "code",
   "execution_count": 22,
   "metadata": {},
   "outputs": [
    {
     "name": "stdout",
     "output_type": "stream",
     "text": [
      "0.7726914691078659\n",
      "0.6676599549334559\n"
     ]
    }
   ],
   "source": [
    "# calculate RMSE\n",
    "from sklearn import metrics\n",
    "import numpy as np\n",
    "print(np.sqrt(metrics.mean_squared_error(ya_test, PredictW)))\n",
    "print(np.sqrt(metrics.mean_squared_error(yb_test, PredictR)))"
   ]
  },
  {
   "cell_type": "markdown",
   "metadata": {},
   "source": [
    "La significancia de los coeficientes entre los dos grupos de vinos son muy similares aśi como su impacto sobre la variación de la variable dependiente."
   ]
  },
  {
   "cell_type": "markdown",
   "metadata": {},
   "source": [
    "# Exercise 6.7\n",
    "\n",
    "* Estimate a ridge regression with alpha equals 0.1 and 1.\n",
    "* Compare the coefficients with the linear regression\n",
    "* Evaluate the RMSE"
   ]
  },
  {
   "cell_type": "code",
   "execution_count": 23,
   "metadata": {},
   "outputs": [],
   "source": [
    "# alpha=0.1 y 1\n",
    "from sklearn.linear_model import Ridge\n",
    "for alpha in (0.1,1):\n",
    "    ridgereg1 = Ridge(alpha=alpha, normalize=True)\n",
    "    ridgereg1.fit(Xa_train, ya_train)\n",
    "    ridgereg2 = Ridge(alpha=alpha, normalize=True)\n",
    "    ridgereg2.fit(Xb_train, yb_train)\n",
    "    PredictW = ridgereg1.predict(Xa_test)\n",
    "    PredictR = ridgereg2.predict(Xb_test)"
   ]
  },
  {
   "cell_type": "code",
   "execution_count": 24,
   "metadata": {},
   "outputs": [
    {
     "name": "stdout",
     "output_type": "stream",
     "text": [
      "Coeficientes regresión lineal vino blanco: \n",
      "[ 0.04290461 -0.1734983   0.0009931   0.37857245 -0.00363547  0.06594748\n",
      " -0.02579    -0.37609639  0.08866284  0.06303131  0.27381265]\n",
      "Coeficientes regresión ridge vino blanco: \n",
      "[-0.02483302 -0.07539287  0.00690314  0.03358716 -0.04865522  0.03341322\n",
      " -0.035096   -0.07056633  0.02129613  0.02162906  0.15969884]\n",
      "Coeficientes regresión lineal vino rojo: \n",
      "[ 0.04290461 -0.1734983   0.0009931   0.37857245 -0.00363547  0.06594748\n",
      " -0.02579    -0.37609639  0.08866284  0.06303131  0.27381265]\n",
      "Coeficientes regresión ridge vino rojo: \n",
      "[ 0.03661064 -0.10689763  0.04108219  0.00881858 -0.0390305   0.00700692\n",
      " -0.05982622 -0.04858785 -0.00396759  0.08093045  0.15853218]\n"
     ]
    }
   ],
   "source": [
    "print(\"Coeficientes regresión lineal vino blanco: \")\n",
    "print(linreg1.coef_)\n",
    "print(\"Coeficientes regresión ridge vino blanco: \")\n",
    "print(ridgereg1.coef_)\n",
    "print(\"Coeficientes regresión lineal vino rojo: \")\n",
    "print(linreg1.coef_)\n",
    "print(\"Coeficientes regresión ridge vino rojo: \")\n",
    "print(ridgereg2.coef_)"
   ]
  },
  {
   "cell_type": "code",
   "execution_count": 25,
   "metadata": {},
   "outputs": [
    {
     "name": "stdout",
     "output_type": "stream",
     "text": [
      "Vino blanco  0.8176967789087581\n",
      "Vino rojo  0.694789419431097\n"
     ]
    }
   ],
   "source": [
    "print(\"Vino blanco \",np.sqrt(metrics.mean_squared_error(ya_test, PredictW)))\n",
    "print(\"Vino rojo \",np.sqrt(metrics.mean_squared_error(yb_test, PredictR)))"
   ]
  },
  {
   "cell_type": "markdown",
   "metadata": {},
   "source": [
    "El menor error cuadratico medio se presenta con vino blanco."
   ]
  },
  {
   "cell_type": "markdown",
   "metadata": {},
   "source": [
    "# Exercise 6.8\n",
    "\n",
    "* Estimate a lasso regression with alpha equals 0.01, 0.1 and 1.\n",
    "* Compare the coefficients with the linear regression\n",
    "* Evaluate the RMSE"
   ]
  },
  {
   "cell_type": "code",
   "execution_count": 26,
   "metadata": {},
   "outputs": [
    {
     "name": "stdout",
     "output_type": "stream",
     "text": [
      "Accuracy para regresion lasso, con un valor de alpha de  0.01  es: -0.0005259998116662334  para vino blanco.\n",
      "Accuracy para regresion lasso, con un valor de alpha de  0.01  es: 0.054830603719757565  para vino rojo.\n",
      "Accuracy para regresion lasso, con un valor de alpha de  0.1  es: -0.0005259998116662334  para vino blanco.\n",
      "Accuracy para regresion lasso, con un valor de alpha de  0.1  es: -0.0036433423519339754  para vino rojo.\n",
      "Accuracy para regresion lasso, con un valor de alpha de  1  es: -0.0005259998116662334  para vino blanco.\n",
      "Accuracy para regresion lasso, con un valor de alpha de  1  es: -0.0036433423519339754  para vino rojo.\n"
     ]
    }
   ],
   "source": [
    "from sklearn.linear_model import Lasso\n",
    "for alpha in (0.01,0.1,1):\n",
    "    lassoreg1 = Lasso(alpha=alpha, normalize=True)\n",
    "    lassoreg2 = Lasso(alpha=alpha, normalize=True)\n",
    "    lassoreg1.fit(Xa_train, ya_train)\n",
    "    lassoreg2.fit(Xb_train, yb_train)\n",
    "    a1=lassoreg1.score(Xa_test,ya_test)\n",
    "    a2=lassoreg2.score(Xb_test,yb_test)\n",
    "    print(\"Accuracy para regresion lasso, con un valor de alpha de \",alpha,\" es:\",a1,\" para vino blanco.\")\n",
    "    print(\"Accuracy para regresion lasso, con un valor de alpha de \",alpha,\" es:\",a2,\" para vino rojo.\")\n"
   ]
  },
  {
   "cell_type": "code",
   "execution_count": 27,
   "metadata": {},
   "outputs": [
    {
     "name": "stdout",
     "output_type": "stream",
     "text": [
      "Coeficientes vino blanco con alpha de  0.01\n",
      "[-0. -0. -0. -0. -0.  0. -0. -0.  0.  0.  0.]\n",
      "Coeficientes vino rojo con alpha de  0.01\n",
      "[ 0.         -0.          0.         -0.         -0.         -0.\n",
      " -0.         -0.         -0.          0.          0.05732882]\n",
      "Coeficientes vino blanco con alpha de  0.1\n",
      "[-0. -0. -0. -0. -0.  0. -0. -0.  0.  0.  0.]\n",
      "Coeficientes vino rojo con alpha de  0.1\n",
      "[ 0. -0.  0. -0. -0. -0. -0. -0. -0.  0.  0.]\n",
      "Coeficientes vino blanco con alpha de  1\n",
      "[-0. -0. -0. -0. -0.  0. -0. -0.  0.  0.  0.]\n",
      "Coeficientes vino rojo con alpha de  1\n",
      "[ 0. -0.  0. -0. -0. -0. -0. -0. -0.  0.  0.]\n"
     ]
    }
   ],
   "source": [
    "for alpha in (0.01,0.1,1):\n",
    "    lassoreg1 = Lasso(alpha=alpha, normalize=True)\n",
    "    lassoreg2 = Lasso(alpha=alpha, normalize=True)\n",
    "    lassoreg1.fit(Xa_train, ya_train)\n",
    "    lassoreg2.fit(Xb_train, yb_train)\n",
    "    print('Coeficientes vino blanco con alpha de ',alpha)\n",
    "    print(lassoreg1.coef_)\n",
    "    print('Coeficientes vino rojo con alpha de ',alpha)\n",
    "    print(lassoreg2.coef_)\n"
   ]
  },
  {
   "cell_type": "code",
   "execution_count": 28,
   "metadata": {},
   "outputs": [
    {
     "name": "stdout",
     "output_type": "stream",
     "text": [
      "RMSE para vino blanco con alpha de  0.01   0.9125578523783424\n",
      "RMSE para vino rojo con alpha de  0.01   0.8011935715643821\n",
      "RMSE para vino blanco con alpha de  0.1   0.9125578523783424\n",
      "RMSE para vino rojo con alpha de  0.1   0.82560503812887\n",
      "RMSE para vino blanco con alpha de  1   0.9125578523783424\n",
      "RMSE para vino rojo con alpha de  1   0.82560503812887\n"
     ]
    }
   ],
   "source": [
    "for alpha in (0.01,0.1,1):\n",
    "    lassoreg1 = Lasso(alpha=alpha, normalize=True)\n",
    "    lassoreg2 = Lasso(alpha=alpha, normalize=True)\n",
    "    lassoreg1.fit(Xa_train, ya_train)\n",
    "    lassoreg2.fit(Xb_train, yb_train)\n",
    "    ya_pred = lassoreg1.predict(Xa_test)\n",
    "    yb_pred = lassoreg2.predict(Xb_test)\n",
    "    print(\"RMSE para vino blanco con alpha de \",alpha,' ',np.sqrt(metrics.mean_squared_error(ya_test, ya_pred)))\n",
    "    print(\"RMSE para vino rojo con alpha de \",alpha,' ',np.sqrt(metrics.mean_squared_error(yb_test, yb_pred)))"
   ]
  },
  {
   "cell_type": "markdown",
   "metadata": {},
   "source": [
    "El RMSE es bastatne alto para los dos vinos. Con cualquier alor de alpha no hay una variación significativa."
   ]
  },
  {
   "cell_type": "markdown",
   "metadata": {},
   "source": [
    "# Exercise 6.9\n",
    "\n",
    "* Create a binary target\n",
    "\n",
    "* Train a logistic regression to predict wine quality (binary)\n",
    "\n",
    "* Analyze the coefficients\n",
    "\n",
    "* Evaluate the f1score"
   ]
  },
  {
   "cell_type": "code",
   "execution_count": 29,
   "metadata": {},
   "outputs": [
    {
     "name": "stdout",
     "output_type": "stream",
     "text": [
      "Accuracy vino blanco regresion logistica 0.7333333333333333\n",
      "Accuracy vino rojo regresion logistica 0.7479166666666667\n",
      "Coeficientes vino blanco regresion logistica\n",
      "[[-0.00830468 -0.64259758  0.02575139  0.80065959 -0.00485021  0.13593535\n",
      "  -0.05493487 -0.6315655   0.11245233  0.17692136  1.01697489]]\n",
      "Coeficientes vino rojo regresion logistica\n",
      "[[ 0.28527521 -0.49442883 -0.2106724   0.00973286 -0.20448886  0.19829353\n",
      "  -0.48107056 -0.25583964 -0.19193918  0.46997561  0.93043955]]\n",
      "F1 vino blanco promedio macro:  0.6800266533399967\n",
      "F1 vino blanco promedio micro:  0.7333333333333333\n",
      "F1 vino blanco promedio weighted:  0.7192959076017547\n",
      "F1 vino rojo promedio macro:  0.7475210725137913\n",
      "F1 vino rojo promedio micro:  0.7479166666666667\n",
      "F1 vino rojo promedio weighted:  0.7481873363502132\n"
     ]
    }
   ],
   "source": [
    "ya = vino_blanco['Q1'].values\n",
    "yb = vino_rojo['Q1'].values\n",
    "\n",
    "Xa_train, Xa_test, ya_train, ya_test = train_test_split(md1, ya, test_size=0.3)\n",
    "Xb_train, Xb_test, yb_train, yb_test = train_test_split(md2, yb, test_size=0.3)\n",
    "\n",
    "from sklearn.linear_model import LogisticRegression\n",
    "from sklearn.metrics import f1_score\n",
    "logreg1 = LogisticRegression(solver='liblinear',C=1e9)\n",
    "logreg2 = LogisticRegression(solver='liblinear',C=1e9)\n",
    "logreg1.fit(Xa_train, ya_train)\n",
    "logreg2.fit(Xb_train, yb_train)\n",
    "al1=logreg1.score(Xa_test, ya_test)\n",
    "al2=logreg2.score(Xb_test, yb_test)\n",
    "ce1 = logreg1.coef_\n",
    "ce2 = logreg2.coef_\n",
    "ya_pred = logreg1.predict(Xa_test)\n",
    "yb_pred = logreg2.predict(Xb_test)\n",
    "fa11=f1_score(ya_test, ya_pred, average='macro')  \n",
    "fa12=f1_score(ya_test, ya_pred, average='micro')  \n",
    "fa13=f1_score(ya_test, ya_pred, average='weighted')  \n",
    "fb11=f1_score(yb_test, yb_pred, average='macro')  \n",
    "fb12=f1_score(yb_test, yb_pred, average='micro')  \n",
    "fb13=f1_score(yb_test, yb_pred, average='weighted')  \n",
    "\n",
    "print('Accuracy vino blanco regresion logistica',al1)\n",
    "print('Accuracy vino rojo regresion logistica',al2)\n",
    "print('Coeficientes vino blanco regresion logistica')\n",
    "print(ce1)\n",
    "print('Coeficientes vino rojo regresion logistica')\n",
    "print(ce2)\n",
    "print(\"F1 vino blanco promedio macro: \",fa11)\n",
    "print(\"F1 vino blanco promedio micro: \",fa12)\n",
    "print(\"F1 vino blanco promedio weighted: \",fa13)\n",
    "print(\"F1 vino rojo promedio macro: \",fb11)\n",
    "print(\"F1 vino rojo promedio micro: \",fb12)\n",
    "print(\"F1 vino rojo promedio weighted: \",fb13)"
   ]
  },
  {
   "cell_type": "markdown",
   "metadata": {},
   "source": [
    "En terminos generales tanto para vino blanco como vino rojo se tiene una precisión del 70% en promedio"
   ]
  },
  {
   "cell_type": "markdown",
   "metadata": {},
   "source": [
    "# Exercise 6.10\n",
    "\n",
    "* Estimate a regularized logistic regression using:\n",
    "* C = 0.01, 0.1 & 1.0\n",
    "* penalty = ['l1, 'l2']\n",
    "* Compare the coefficients and the f1score"
   ]
  },
  {
   "cell_type": "code",
   "execution_count": 30,
   "metadata": {},
   "outputs": [
    {
     "name": "stdout",
     "output_type": "stream",
     "text": [
      "F1 Score vino blanco con C:  0.01  ,penalty de:  l1  es:  0.8149951314508277\n",
      "F1 Score vino rojo con C:  0.01  ,penalty de:  l1  es:  0.703862660944206\n",
      "F1 Score vino blanco con C:  0.01  ,penalty de:  l2  es:  0.8153846153846153\n",
      "F1 Score vino rojo con C:  0.01  ,penalty de:  l2  es:  0.7398373983739838\n",
      "F1 Score vino blanco con C:  0.1  ,penalty de:  l1  es:  0.8136735676456428\n",
      "F1 Score vino rojo con C:  0.1  ,penalty de:  l1  es:  0.7479674796747967\n",
      "F1 Score vino blanco con C:  0.1  ,penalty de:  l2  es:  0.8094321462945139\n",
      "F1 Score vino rojo con C:  0.1  ,penalty de:  l2  es:  0.7590361445783131\n",
      "F1 Score vino blanco con C:  1.0  ,penalty de:  l1  es:  0.8088803088803089\n",
      "F1 Score vino rojo con C:  1.0  ,penalty de:  l1  es:  0.7569721115537849\n",
      "F1 Score vino blanco con C:  1.0  ,penalty de:  l2  es:  0.8094548962855764\n",
      "F1 Score vino rojo con C:  1.0  ,penalty de:  l2  es:  0.7575150300601203\n"
     ]
    }
   ],
   "source": [
    "#REgularizado desde el comienzo del ejercicio\n",
    "for C in (0.01, 0.1 , 1.0):\n",
    "    for penalty in ('l1','l2'):\n",
    "        logreg1 = LogisticRegression(C=C, penalty=penalty,solver='liblinear',multi_class='auto')\n",
    "        logreg2 = LogisticRegression(C=C, penalty=penalty,solver='liblinear',multi_class='auto')\n",
    "        logreg1.fit(Xa_train, ya_train)\n",
    "        logreg2.fit(Xb_train, yb_train)\n",
    "        ya_pred=logreg1.predict(Xa_test)\n",
    "        yb_pred=logreg2.predict(Xb_test)\n",
    "        f1a = f1_score(ya_test,ya_pred)\n",
    "        f1b = f1_score(yb_test,yb_pred)\n",
    "        print('F1 Score vino blanco con C: ',C,' ,penalty de: ',penalty,' es: ',f1a)\n",
    "        print('F1 Score vino rojo con C: ',C,' ,penalty de: ',penalty,' es: ',f1b)\n"
   ]
  },
  {
   "cell_type": "markdown",
   "metadata": {},
   "source": [
    "El mejor modelo para vino blanco es con C:0.1 y penalty de l1 con F1 de 0.8383119962067329\n",
    "El mejor modelo para vino rojo es es con C:0.1 y penalty de l2 con F1 de 0.7490196078431373"
   ]
  }
 ],
 "metadata": {
  "kernelspec": {
   "display_name": "Python 3",
   "language": "python",
   "name": "python3"
  },
  "language_info": {
   "codemirror_mode": {
    "name": "ipython",
    "version": 3
   },
   "file_extension": ".py",
   "mimetype": "text/x-python",
   "name": "python",
   "nbconvert_exporter": "python",
   "pygments_lexer": "ipython3",
   "version": "3.7.1"
  }
 },
 "nbformat": 4,
 "nbformat_minor": 1
}
